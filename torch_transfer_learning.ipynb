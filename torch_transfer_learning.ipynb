{
 "cells": [
  {
   "cell_type": "code",
   "execution_count": null,
   "metadata": {},
   "outputs": [],
   "source": [
    "#---------------------------------------#\n",
    "# author : https://github.com/vidit1999 #\n",
    "#---------------------------------------#"
   ]
  },
  {
   "cell_type": "code",
   "execution_count": 1,
   "metadata": {
    "id": "k9xkWBZK6Yt3"
   },
   "outputs": [],
   "source": [
    "import copy\n",
    "import time\n",
    "import warnings\n",
    "import numpy as np\n",
    "import matplotlib.pyplot as plt\n",
    "\n",
    "import torch\n",
    "import torchvision\n",
    "import torch.nn as nn\n",
    "import torch.optim as optim\n",
    "import torchvision.transforms as T\n",
    "\n",
    "from google.colab import files\n",
    "from torch.utils.data import DataLoader\n",
    "from torchvision.datasets import CIFAR100\n",
    "from torchvision.models import resnet18\n",
    "from torchsummary import summary\n",
    "\n",
    "warnings.filterwarnings('ignore')\n",
    "\n",
    "%matplotlib inline"
   ]
  },
  {
   "cell_type": "code",
   "execution_count": 2,
   "metadata": {
    "colab": {
     "base_uri": "https://localhost:8080/"
    },
    "id": "5IyYicrbaoZl",
    "outputId": "fffec32e-e118-4c2e-9e77-51c7b13dec58"
   },
   "outputs": [
    {
     "data": {
      "text/plain": [
       "<torch._C.Generator at 0x7f980cf916f0>"
      ]
     },
     "execution_count": 2,
     "metadata": {
      "tags": []
     },
     "output_type": "execute_result"
    }
   ],
   "source": [
    "seed = 10\n",
    "np.random.seed(seed)\n",
    "torch.manual_seed(seed)"
   ]
  },
  {
   "cell_type": "code",
   "execution_count": 3,
   "metadata": {
    "id": "mBkwe_etxi_Y"
   },
   "outputs": [],
   "source": [
    "resnet = resnet18(pretrained=True)\n",
    "resnet.fc = nn.Identity()\n",
    "\n",
    "for params in resnet.parameters():\n",
    "    params.requires_grad = False"
   ]
  },
  {
   "cell_type": "code",
   "execution_count": 4,
   "metadata": {
    "colab": {
     "base_uri": "https://localhost:8080/"
    },
    "id": "oyvIi5G1RX5T",
    "outputId": "75d0bf2e-f8f7-4a41-dfca-ee963ccb97df"
   },
   "outputs": [
    {
     "name": "stdout",
     "output_type": "stream",
     "text": [
      "Device : cuda\n",
      "GPU Count : 1\n"
     ]
    }
   ],
   "source": [
    "device = \"cuda\" if torch.cuda.is_available() else \"cpu\"\n",
    "\n",
    "device_count = torch.cuda.device_count()\n",
    "torch.backends.cudnn.benchmark = True\n",
    "\n",
    "normal_input_shape = (3, 32, 32)\n",
    "pre_trained_input_shape = (3, 224, 224)\n",
    "batch_size = 200\n",
    "epochs = 10\n",
    "normal_learning_rate = 0.001\n",
    "transfer_learning_rate = 0.001\n",
    "momentum = 0.9\n",
    "\n",
    "print(\"Device :\", device)\n",
    "print(\"GPU Count :\", device_count)"
   ]
  },
  {
   "cell_type": "code",
   "execution_count": 5,
   "metadata": {
    "id": "kR13PbL_OY67"
   },
   "outputs": [],
   "source": [
    "def get_data_loaders(validation_split=0.1, model_type='normal'):\n",
    "    if model_type == 'pretrained':\n",
    "        mean=[0.485, 0.456, 0.406]\n",
    "        std=[0.229, 0.224, 0.225]\n",
    "    else:\n",
    "        mean = [0.5071, 0.4867, 0.4408]\n",
    "        std = [0.2675, 0.2565, 0.2761]\n",
    "    \n",
    "    transform =  T.Compose(\n",
    "        [\n",
    "            T.Resize(size=(224 if model_type == 'pretrained' else 32)),\n",
    "            T.ToTensor(),\n",
    "            T.Normalize(mean, std)\n",
    "        ]\n",
    "    )\n",
    "\n",
    "    data_set = {}\n",
    "\n",
    "    data = CIFAR100(root=\"./data/train\",train=True, download=True, transform=transform)\n",
    "    data_set['test'] = CIFAR100(root=\"./data/test\", train=False, download=True, transform=transform)\n",
    "\n",
    "    val_len = int(len(data)*validation_split)\n",
    "\n",
    "    data_set['validation'], data_set['train'] = torch.utils.data.random_split(data, [val_len, len(data)-val_len])\n",
    "    \n",
    "    print()\n",
    "    print(\"Train data length\", len(data_set['train']))\n",
    "    print(\"Valiation data length\", len(data_set['validation']))\n",
    "    print(\"Test data length\", len(data_set['test']))\n",
    "    print()\n",
    "\n",
    "    data_loader = dict(\n",
    "        [\n",
    "        (k, DataLoader(dataset=v, batch_size=batch_size, shuffle=(k == 'train'), pin_memory=True, num_workers=4*device_count, drop_last=True))\n",
    "        for k, v in data_set.items() \n",
    "        ]\n",
    "    )\n",
    "    \n",
    "    return data_loader"
   ]
  },
  {
   "cell_type": "code",
   "execution_count": 6,
   "metadata": {
    "colab": {
     "base_uri": "https://localhost:8080/"
    },
    "id": "1UMsiCrYVKm9",
    "outputId": "79b8a326-424e-42ac-891c-57e240a88e62"
   },
   "outputs": [
    {
     "name": "stdout",
     "output_type": "stream",
     "text": [
      "Files already downloaded and verified\n",
      "Files already downloaded and verified\n",
      "\n",
      "Train data length 45000\n",
      "Valiation data length 5000\n",
      "Test data length 10000\n",
      "\n",
      "Files already downloaded and verified\n",
      "Files already downloaded and verified\n",
      "\n",
      "Train data length 45000\n",
      "Valiation data length 5000\n",
      "Test data length 10000\n",
      "\n"
     ]
    }
   ],
   "source": [
    "# !rm -rf ./data\n",
    "\n",
    "normal_data_loader = get_data_loaders(validation_split=0.1, model_type='normal')\n",
    "transfered_data_loader = get_data_loaders(validation_split=0.1, model_type='pretrained')"
   ]
  },
  {
   "cell_type": "code",
   "execution_count": 7,
   "metadata": {
    "id": "CdrKmWxJPFou"
   },
   "outputs": [],
   "source": [
    "class Net(nn.Module):\n",
    "    def __init__(self, pre_trained=None):\n",
    "        super(Net, self).__init__()\n",
    "\n",
    "        self.conv_layers = nn.Sequential(\n",
    "            nn.Conv2d(3, 16, kernel_size=3, stride=1, padding=1),\n",
    "            nn.ReLU(inplace=True),\n",
    "            nn.BatchNorm2d(num_features=16),\n",
    "            nn.MaxPool2d(2, 2),\n",
    "\n",
    "            nn.Conv2d(16, 32, kernel_size=3, stride=1, padding=1),\n",
    "            nn.ReLU(inplace=True),\n",
    "            nn.BatchNorm2d(num_features=32),\n",
    "            nn.MaxPool2d(2, 2),\n",
    "\n",
    "            nn.Conv2d(32, 64, kernel_size=3, stride=1, padding=1),\n",
    "            nn.ReLU(inplace=True),\n",
    "            nn.BatchNorm2d(num_features=64),\n",
    "            nn.MaxPool2d(2, 2),\n",
    "\n",
    "            nn.Conv2d(64, 128, kernel_size=3, stride=1, padding=1),\n",
    "            nn.ReLU(inplace=True),\n",
    "            nn.BatchNorm2d(num_features=128),\n",
    "            nn.MaxPool2d(2, 2),\n",
    "            \n",
    "            nn.Conv2d(128, 512, kernel_size=3, stride=1, padding=1),\n",
    "            nn.ReLU(inplace=True),\n",
    "            nn.BatchNorm2d(num_features=512),\n",
    "            nn.MaxPool2d(2, 2),\n",
    "\n",
    "            nn.Flatten(),\n",
    "        )\n",
    "        self.pre_trained = nn.Identity() if pre_trained == None else pre_trained\n",
    "        self.fc = nn.Sequential(\n",
    "            nn.Linear(in_features=512, out_features=256),\n",
    "            nn.ReLU(inplace=True),\n",
    "            nn.Linear(in_features=256, out_features=100),\n",
    "        )\n",
    "        \n",
    "\n",
    "    def forward(self, x):\n",
    "        if isinstance(self.pre_trained, nn.Identity):\n",
    "            x = self.conv_layers(x)\n",
    "        else:\n",
    "            x = self.pre_trained(x)\n",
    "        \n",
    "        x = self.fc(x)\n",
    "        return x"
   ]
  },
  {
   "cell_type": "code",
   "execution_count": 8,
   "metadata": {
    "colab": {
     "base_uri": "https://localhost:8080/"
    },
    "id": "bYffOdexanqd",
    "outputId": "41bb7a26-a451-47cd-b294-4a0efc7b06a7"
   },
   "outputs": [
    {
     "name": "stdout",
     "output_type": "stream",
     "text": [
      "Normal Conv Net :\n",
      "----------------------------------------------------------------\n",
      "        Layer (type)               Output Shape         Param #\n",
      "================================================================\n",
      "            Conv2d-1          [200, 16, 32, 32]             448\n",
      "              ReLU-2          [200, 16, 32, 32]               0\n",
      "       BatchNorm2d-3          [200, 16, 32, 32]              32\n",
      "         MaxPool2d-4          [200, 16, 16, 16]               0\n",
      "            Conv2d-5          [200, 32, 16, 16]           4,640\n",
      "              ReLU-6          [200, 32, 16, 16]               0\n",
      "       BatchNorm2d-7          [200, 32, 16, 16]              64\n",
      "         MaxPool2d-8            [200, 32, 8, 8]               0\n",
      "            Conv2d-9            [200, 64, 8, 8]          18,496\n",
      "             ReLU-10            [200, 64, 8, 8]               0\n",
      "      BatchNorm2d-11            [200, 64, 8, 8]             128\n",
      "        MaxPool2d-12            [200, 64, 4, 4]               0\n",
      "           Conv2d-13           [200, 128, 4, 4]          73,856\n",
      "             ReLU-14           [200, 128, 4, 4]               0\n",
      "      BatchNorm2d-15           [200, 128, 4, 4]             256\n",
      "        MaxPool2d-16           [200, 128, 2, 2]               0\n",
      "           Conv2d-17           [200, 512, 2, 2]         590,336\n",
      "             ReLU-18           [200, 512, 2, 2]               0\n",
      "      BatchNorm2d-19           [200, 512, 2, 2]           1,024\n",
      "        MaxPool2d-20           [200, 512, 1, 1]               0\n",
      "          Flatten-21                 [200, 512]               0\n",
      "           Linear-22                 [200, 256]         131,328\n",
      "             ReLU-23                 [200, 256]               0\n",
      "           Linear-24                 [200, 100]          25,700\n",
      "================================================================\n",
      "Total params: 846,308\n",
      "Trainable params: 846,308\n",
      "Non-trainable params: 0\n",
      "----------------------------------------------------------------\n",
      "Input size (MB): 2.34\n",
      "Forward/backward pass size (MB): 164.22\n",
      "Params size (MB): 3.23\n",
      "Estimated Total Size (MB): 169.79\n",
      "----------------------------------------------------------------\n"
     ]
    }
   ],
   "source": [
    "net = Net().to(device)\n",
    "print(\"Normal Conv Net :\")\n",
    "summary(model=net, input_size=normal_input_shape, batch_size=batch_size, device=device)"
   ]
  },
  {
   "cell_type": "code",
   "execution_count": 9,
   "metadata": {
    "colab": {
     "base_uri": "https://localhost:8080/"
    },
    "id": "9dBGJpJOeyj6",
    "outputId": "7b9647b6-8f4a-4089-ea62-a062e4641b5a"
   },
   "outputs": [
    {
     "name": "stdout",
     "output_type": "stream",
     "text": [
      "ResNet Transfer Net :\n",
      "----------------------------------------------------------------\n",
      "        Layer (type)               Output Shape         Param #\n",
      "================================================================\n",
      "            Conv2d-1        [200, 64, 112, 112]           9,408\n",
      "       BatchNorm2d-2        [200, 64, 112, 112]             128\n",
      "              ReLU-3        [200, 64, 112, 112]               0\n",
      "         MaxPool2d-4          [200, 64, 56, 56]               0\n",
      "            Conv2d-5          [200, 64, 56, 56]          36,864\n",
      "       BatchNorm2d-6          [200, 64, 56, 56]             128\n",
      "              ReLU-7          [200, 64, 56, 56]               0\n",
      "            Conv2d-8          [200, 64, 56, 56]          36,864\n",
      "       BatchNorm2d-9          [200, 64, 56, 56]             128\n",
      "             ReLU-10          [200, 64, 56, 56]               0\n",
      "       BasicBlock-11          [200, 64, 56, 56]               0\n",
      "           Conv2d-12          [200, 64, 56, 56]          36,864\n",
      "      BatchNorm2d-13          [200, 64, 56, 56]             128\n",
      "             ReLU-14          [200, 64, 56, 56]               0\n",
      "           Conv2d-15          [200, 64, 56, 56]          36,864\n",
      "      BatchNorm2d-16          [200, 64, 56, 56]             128\n",
      "             ReLU-17          [200, 64, 56, 56]               0\n",
      "       BasicBlock-18          [200, 64, 56, 56]               0\n",
      "           Conv2d-19         [200, 128, 28, 28]          73,728\n",
      "      BatchNorm2d-20         [200, 128, 28, 28]             256\n",
      "             ReLU-21         [200, 128, 28, 28]               0\n",
      "           Conv2d-22         [200, 128, 28, 28]         147,456\n",
      "      BatchNorm2d-23         [200, 128, 28, 28]             256\n",
      "           Conv2d-24         [200, 128, 28, 28]           8,192\n",
      "      BatchNorm2d-25         [200, 128, 28, 28]             256\n",
      "             ReLU-26         [200, 128, 28, 28]               0\n",
      "       BasicBlock-27         [200, 128, 28, 28]               0\n",
      "           Conv2d-28         [200, 128, 28, 28]         147,456\n",
      "      BatchNorm2d-29         [200, 128, 28, 28]             256\n",
      "             ReLU-30         [200, 128, 28, 28]               0\n",
      "           Conv2d-31         [200, 128, 28, 28]         147,456\n",
      "      BatchNorm2d-32         [200, 128, 28, 28]             256\n",
      "             ReLU-33         [200, 128, 28, 28]               0\n",
      "       BasicBlock-34         [200, 128, 28, 28]               0\n",
      "           Conv2d-35         [200, 256, 14, 14]         294,912\n",
      "      BatchNorm2d-36         [200, 256, 14, 14]             512\n",
      "             ReLU-37         [200, 256, 14, 14]               0\n",
      "           Conv2d-38         [200, 256, 14, 14]         589,824\n",
      "      BatchNorm2d-39         [200, 256, 14, 14]             512\n",
      "           Conv2d-40         [200, 256, 14, 14]          32,768\n",
      "      BatchNorm2d-41         [200, 256, 14, 14]             512\n",
      "             ReLU-42         [200, 256, 14, 14]               0\n",
      "       BasicBlock-43         [200, 256, 14, 14]               0\n",
      "           Conv2d-44         [200, 256, 14, 14]         589,824\n",
      "      BatchNorm2d-45         [200, 256, 14, 14]             512\n",
      "             ReLU-46         [200, 256, 14, 14]               0\n",
      "           Conv2d-47         [200, 256, 14, 14]         589,824\n",
      "      BatchNorm2d-48         [200, 256, 14, 14]             512\n",
      "             ReLU-49         [200, 256, 14, 14]               0\n",
      "       BasicBlock-50         [200, 256, 14, 14]               0\n",
      "           Conv2d-51           [200, 512, 7, 7]       1,179,648\n",
      "      BatchNorm2d-52           [200, 512, 7, 7]           1,024\n",
      "             ReLU-53           [200, 512, 7, 7]               0\n",
      "           Conv2d-54           [200, 512, 7, 7]       2,359,296\n",
      "      BatchNorm2d-55           [200, 512, 7, 7]           1,024\n",
      "           Conv2d-56           [200, 512, 7, 7]         131,072\n",
      "      BatchNorm2d-57           [200, 512, 7, 7]           1,024\n",
      "             ReLU-58           [200, 512, 7, 7]               0\n",
      "       BasicBlock-59           [200, 512, 7, 7]               0\n",
      "           Conv2d-60           [200, 512, 7, 7]       2,359,296\n",
      "      BatchNorm2d-61           [200, 512, 7, 7]           1,024\n",
      "             ReLU-62           [200, 512, 7, 7]               0\n",
      "           Conv2d-63           [200, 512, 7, 7]       2,359,296\n",
      "      BatchNorm2d-64           [200, 512, 7, 7]           1,024\n",
      "             ReLU-65           [200, 512, 7, 7]               0\n",
      "       BasicBlock-66           [200, 512, 7, 7]               0\n",
      "AdaptiveAvgPool2d-67           [200, 512, 1, 1]               0\n",
      "         Identity-68                 [200, 512]               0\n",
      "           ResNet-69                 [200, 512]               0\n",
      "           Linear-70                 [200, 256]         131,328\n",
      "             ReLU-71                 [200, 256]               0\n",
      "           Linear-72                 [200, 100]          25,700\n",
      "================================================================\n",
      "Total params: 11,333,540\n",
      "Trainable params: 157,028\n",
      "Non-trainable params: 11,176,512\n",
      "----------------------------------------------------------------\n",
      "Input size (MB): 114.84\n",
      "Forward/backward pass size (MB): 12559.53\n",
      "Params size (MB): 43.23\n",
      "Estimated Total Size (MB): 12717.61\n",
      "----------------------------------------------------------------\n"
     ]
    }
   ],
   "source": [
    "transfer_net = Net(pre_trained=resnet).to(device)\n",
    "print(\"ResNet Transfer Net :\")\n",
    "summary(model=transfer_net, input_size=pre_trained_input_shape, batch_size=batch_size, device=device)"
   ]
  },
  {
   "cell_type": "code",
   "execution_count": 10,
   "metadata": {
    "id": "xFlgOfF5u7HY"
   },
   "outputs": [],
   "source": [
    "def model_train(model, criterion, optimizer, data_loader, epochs,\n",
    "                epochs_to_watch = -1, accuracy_min_diff = 0.001, max_val_acc_needed = None):\n",
    "    history = {\n",
    "        'epochs' : 0,\n",
    "        'train' : {\n",
    "            'losses' : [],\n",
    "            'accuracies' : [],\n",
    "            'total_loss' : 0,\n",
    "            'total_acc' : 0\n",
    "        },\n",
    "        'validation' : {\n",
    "            'losses' : [],\n",
    "            'accuracies' : [],\n",
    "            'total_loss' : 0,\n",
    "            'total_acc' : 0\n",
    "        }\n",
    "    }\n",
    "    \n",
    "    best_state_dict = copy.deepcopy(model.state_dict())\n",
    "    best_val_acc = -float('inf')\n",
    "    epochs_no_improve = 0\n",
    "    width = len(str(epochs))\n",
    "\n",
    "    train_start = time.time()\n",
    "    # =============================================\n",
    "\n",
    "    for e in range(1, epochs+1):\n",
    "        try:\n",
    "            epoch_start = time.time()\n",
    "            total_loss = 0\n",
    "            total_acc = 0\n",
    "            \n",
    "            print(f\"Epoch[{e:0{width}}/{epochs}] :: \", end=\"\")\n",
    "            # ===============================================\n",
    "            for phase in ['train', 'validation']:\n",
    "\n",
    "                loader = data_loader[phase]\n",
    "\n",
    "                model.train(phase == 'train')\n",
    "                with torch.set_grad_enabled(phase == 'train'):\n",
    "                    for images, labels in loader:\n",
    "                        # shift data to device\n",
    "                        images, labels =  images.to(device), labels.to(device)\n",
    "                        \n",
    "                        # clear gradients\n",
    "                        optimizer.zero_grad()\n",
    "\n",
    "                        # get the output and calculate loss\n",
    "                        output = model(images)\n",
    "                        loss = criterion(output, labels)\n",
    "\n",
    "                        if phase == 'train':\n",
    "                            # adjust the variables\n",
    "                            loss.backward()\n",
    "                            optimizer.step()\n",
    "\n",
    "                        # calculate accuracy and add to total accuracy\n",
    "                        _ , pred = torch.max(output.data, 1)\n",
    "                        history[phase]['total_acc'] += (labels == pred).sum().item()\n",
    "\n",
    "                        # add loss\n",
    "                        history[phase]['total_loss'] += (loss.item() * loader.batch_size)\n",
    "            \n",
    "                    # calculate average loss and accuracy\n",
    "                    history[phase]['total_loss'] /= len(loader.dataset)\n",
    "                    history[phase]['total_acc']  /= len(loader.dataset)\n",
    "\n",
    "                    # append losses and accuracies\n",
    "                    history[phase]['losses'].append(history[phase]['total_loss'])\n",
    "                    history[phase]['accuracies'].append(history[phase]['total_acc'])\n",
    "\n",
    "            # ===============================================\n",
    "            \n",
    "            epoch_end = time.time()\n",
    "            \n",
    "            history['epochs'] += 1\n",
    "\n",
    "            print(\n",
    "                f\"Train (Loss = {history['train']['total_loss'] : .4f}, Acc = {history['train']['total_acc'] : .4f}), \"\n",
    "                f\"Validation (Loss = {history['validation']['total_loss'] : .4f}, Acc = {history['validation']['total_acc'] : .4f}), \"\n",
    "                f\"Epoch Time = {epoch_end - epoch_start : .2f}s, Total Time = {epoch_end - train_start : .2f}s\"\n",
    "            )\n",
    "\n",
    "            if best_val_acc < history['validation']['total_acc']:\n",
    "                best_state_dict = copy.deepcopy(model.state_dict())\n",
    "            \n",
    "            if history['validation']['total_acc'] - best_val_acc >= accuracy_min_diff:\n",
    "                epochs_no_improve = 0\n",
    "            else:\n",
    "                epochs_no_improve += 1\n",
    "                if epochs_no_improve == epochs_to_watch:\n",
    "                    print(f\"No validation accuracy improvement for {epochs_to_watch} epochs. Early Stopping!!\")\n",
    "                    break\n",
    "            \n",
    "            best_val_acc = max(best_val_acc, history['validation']['total_acc'])\n",
    "\n",
    "            if max_val_acc_needed != None and best_val_acc >= max_val_acc_needed:\n",
    "                print(f\"Validation Accuracy : {best_val_acc}, Specified maximum accuracy achieved. Stopping!!\")\n",
    "                break\n",
    "            \n",
    "        except KeyboardInterrupt:\n",
    "            print(\"Keyboard interrupt occured. Stopping!!\")\n",
    "            break\n",
    "\n",
    "    # =============================================\n",
    "    train_end = time.time()\n",
    "\n",
    "    print(f\"\\nTotal Training Time : {train_end - train_start : .2f}s\")\n",
    "\n",
    "    # get best model\n",
    "    model.load_state_dict(best_state_dict)\n",
    "\n",
    "    # remove unnecessary keys\n",
    "    for phase in ['train', 'validation']:\n",
    "        history[phase].pop('total_loss', None)\n",
    "        history[phase].pop('total_acc', None)\n",
    "    \n",
    "    return model, history"
   ]
  },
  {
   "cell_type": "code",
   "execution_count": 11,
   "metadata": {
    "id": "tfVCBW2V0Sb2"
   },
   "outputs": [],
   "source": [
    "def model_test(model, criterion, test_loader):\n",
    "    model.eval()\n",
    "    with torch.no_grad():\n",
    "        total_test_acc = 0\n",
    "        total_test_loss = 0\n",
    "        \n",
    "        test_start = time.time()\n",
    "\n",
    "        for images, labels in test_loader:\n",
    "            # shift data to device\n",
    "            images, labels = images.to(device), labels.to(device)\n",
    "\n",
    "            # get the output and loss\n",
    "            output = model(images)\n",
    "            loss = criterion(output, labels)\n",
    "\n",
    "            # calculate test accuracy and loss\n",
    "            _ , pred = torch.max(output.data, 1)\n",
    "            total_test_acc += (labels == pred).sum().item()\n",
    "            total_test_loss += (loss.item() * test_loader.batch_size)\n",
    "        \n",
    "        test_end = time.time()\n",
    "\n",
    "        print(f\"Test time : {test_end - test_start : .2f}s\")\n",
    "        print(f\"Test Loss : {total_test_loss/len(test_loader.dataset) : .4f}\")\n",
    "        print(f\"Test Accuracy : {total_test_acc/len(test_loader.dataset) : .4f}\")"
   ]
  },
  {
   "cell_type": "code",
   "execution_count": 12,
   "metadata": {
    "id": "cFB3Oh57h1yU"
   },
   "outputs": [],
   "source": [
    "def plot_history(history, suptitle):\n",
    "    fig, (loss_ax, acc_ax) = plt.subplots(1, 2, figsize=(20,5))\n",
    "\n",
    "    fig.suptitle(suptitle)\n",
    "\n",
    "    loss_ax.plot(range(1, history['epochs']+1), history['train']['losses'], label=\"Training Loss\", marker='x')\n",
    "    loss_ax.plot(range(1, history['epochs']+1), history['validation']['losses'], label=\"Validation Loss\", marker='x')\n",
    "    loss_ax.set_title(\"Training and Validation Losses\")\n",
    "    loss_ax.set_xlabel(\"Epochs\")\n",
    "    loss_ax.set_ylabel(\"Losses\")\n",
    "    loss_ax.legend()\n",
    "\n",
    "    acc_ax.plot(range(1, history['epochs']+1), history['train']['accuracies'], label=\"Training Acc\", marker='x')\n",
    "    acc_ax.plot(range(1, history['epochs']+1), history['validation']['accuracies'], label=\"Validation Acc\", marker='x')\n",
    "    acc_ax.set_title(\"Training and Validation Accuracies\")\n",
    "    acc_ax.set_xlabel(\"Epochs\")\n",
    "    acc_ax.set_ylabel(\"Accuracies\")\n",
    "    acc_ax.legend()\n",
    "\n",
    "    plt.show()"
   ]
  },
  {
   "cell_type": "code",
   "execution_count": 13,
   "metadata": {
    "id": "JXvDntZcollX"
   },
   "outputs": [],
   "source": [
    "criterion = nn.CrossEntropyLoss().to(device)\n",
    "normal_optimizer = optim.SGD(net.parameters(), lr=normal_learning_rate, momentum=momentum)\n",
    "transfer_optimizer = optim.SGD(transfer_net.parameters(), lr=transfer_learning_rate, momentum=momentum)"
   ]
  },
  {
   "cell_type": "code",
   "execution_count": 14,
   "metadata": {
    "colab": {
     "base_uri": "https://localhost:8080/"
    },
    "id": "hm7YIu8mjsoz",
    "outputId": "c8deab46-bbef-4b4f-80e2-f1db0ae69db0"
   },
   "outputs": [
    {
     "name": "stdout",
     "output_type": "stream",
     "text": [
      "Epoch[01/10] :: Train (Loss =  4.2781, Acc =  0.0724), Validation (Loss =  3.9562, Acc =  0.1170), Epoch Time =  8.94s, Total Time =  8.94s\n",
      "Epoch[02/10] :: Train (Loss =  3.7079, Acc =  0.1542), Validation (Loss =  3.5504, Acc =  0.1794), Epoch Time =  9.00s, Total Time =  17.94s\n",
      "Epoch[03/10] :: Train (Loss =  3.3497, Acc =  0.2104), Validation (Loss =  3.2719, Acc =  0.2166), Epoch Time =  9.05s, Total Time =  27.00s\n",
      "Epoch[04/10] :: Train (Loss =  3.0638, Acc =  0.2590), Validation (Loss =  3.0597, Acc =  0.2520), Epoch Time =  8.96s, Total Time =  35.96s\n",
      "Epoch[05/10] :: Train (Loss =  2.8293, Acc =  0.3017), Validation (Loss =  2.9051, Acc =  0.2799), Epoch Time =  9.00s, Total Time =  44.96s\n",
      "Epoch[06/10] :: Train (Loss =  2.6250, Acc =  0.3422), Validation (Loss =  2.7746, Acc =  0.3047), Epoch Time =  9.04s, Total Time =  54.00s\n",
      "Epoch[07/10] :: Train (Loss =  2.4493, Acc =  0.3777), Validation (Loss =  2.6862, Acc =  0.3139), Epoch Time =  8.83s, Total Time =  62.83s\n",
      "Epoch[08/10] :: Train (Loss =  2.2860, Acc =  0.4148), Validation (Loss =  2.6167, Acc =  0.3373), Epoch Time =  8.89s, Total Time =  71.72s\n",
      "Epoch[09/10] :: Train (Loss =  2.1426, Acc =  0.4456), Validation (Loss =  2.5515, Acc =  0.3507), Epoch Time =  8.98s, Total Time =  80.70s\n",
      "Epoch[10/10] :: Train (Loss =  2.0009, Acc =  0.4813), Validation (Loss =  2.5038, Acc =  0.3629), Epoch Time =  9.12s, Total Time =  89.83s\n",
      "\n",
      "Total Training Time :  89.83s\n"
     ]
    }
   ],
   "source": [
    "best_normal_model, normal_model_history = model_train(\n",
    "    model=net, criterion=criterion,\n",
    "    optimizer=normal_optimizer, data_loader=normal_data_loader,\n",
    "    epochs=epochs\n",
    ")"
   ]
  },
  {
   "cell_type": "code",
   "execution_count": 15,
   "metadata": {
    "colab": {
     "base_uri": "https://localhost:8080/"
    },
    "id": "LoeAbgeDnv0f",
    "outputId": "d615e5dc-7e68-40f1-ec7b-4041c4452709"
   },
   "outputs": [
    {
     "name": "stdout",
     "output_type": "stream",
     "text": [
      "Epoch[01/10] :: Train (Loss =  4.5452, Acc =  0.0334), Validation (Loss =  4.4446, Acc =  0.0702), Epoch Time =  74.49s, Total Time =  74.49s\n",
      "Epoch[02/10] :: Train (Loss =  4.3100, Acc =  0.1293), Validation (Loss =  4.1495, Acc =  0.1946), Epoch Time =  74.38s, Total Time =  148.88s\n",
      "Epoch[03/10] :: Train (Loss =  3.9483, Acc =  0.2306), Validation (Loss =  3.7324, Acc =  0.2838), Epoch Time =  74.34s, Total Time =  223.23s\n",
      "Epoch[04/10] :: Train (Loss =  3.5087, Acc =  0.3018), Validation (Loss =  3.3015, Acc =  0.3239), Epoch Time =  74.46s, Total Time =  297.70s\n",
      "Epoch[05/10] :: Train (Loss =  3.1095, Acc =  0.3537), Validation (Loss =  2.9502, Acc =  0.3749), Epoch Time =  74.64s, Total Time =  372.35s\n",
      "Epoch[06/10] :: Train (Loss =  2.7987, Acc =  0.3932), Validation (Loss =  2.6908, Acc =  0.4123), Epoch Time =  74.46s, Total Time =  446.82s\n",
      "Epoch[07/10] :: Train (Loss =  2.5651, Acc =  0.4206), Validation (Loss =  2.4957, Acc =  0.4275), Epoch Time =  74.42s, Total Time =  521.24s\n",
      "Epoch[08/10] :: Train (Loss =  2.3893, Acc =  0.4433), Validation (Loss =  2.3382, Acc =  0.4483), Epoch Time =  74.83s, Total Time =  596.08s\n",
      "Epoch[09/10] :: Train (Loss =  2.2506, Acc =  0.4582), Validation (Loss =  2.2203, Acc =  0.4643), Epoch Time =  74.90s, Total Time =  670.99s\n",
      "Epoch[10/10] :: Train (Loss =  2.1418, Acc =  0.4744), Validation (Loss =  2.1291, Acc =  0.4737), Epoch Time =  74.72s, Total Time =  745.73s\n",
      "\n",
      "Total Training Time :  745.74s\n"
     ]
    }
   ],
   "source": [
    "best_transfer_model, transfer_model_history = model_train(\n",
    "    model=transfer_net, criterion=criterion,\n",
    "    optimizer=transfer_optimizer, data_loader=transfered_data_loader,\n",
    "    epochs=epochs\n",
    ")"
   ]
  },
  {
   "cell_type": "code",
   "execution_count": 16,
   "metadata": {
    "colab": {
     "base_uri": "https://localhost:8080/",
     "height": 370
    },
    "id": "nMVQ6Nnijqu_",
    "outputId": "c2cf5ed9-94d4-4400-cf08-c999305e5b68"
   },
   "outputs": [
    {
     "data": {
      "image/png": "[encoded data removed]",
      "text/plain": [
       "<Figure size 1440x360 with 2 Axes>"
      ]
     },
     "metadata": {
      "needs_background": "light",
      "tags": []
     },
     "output_type": "display_data"
    }
   ],
   "source": [
    "plot_history(normal_model_history, \"Normal CNN Model\")"
   ]
  },
  {
   "cell_type": "code",
   "execution_count": 17,
   "metadata": {
    "colab": {
     "base_uri": "https://localhost:8080/",
     "height": 370
    },
    "id": "oVsuJY14j_Uf",
    "outputId": "d23afaf5-ad4d-4deb-89c7-e66d56891859"
   },
   "outputs": [
    {
     "data": {
      "image/png": "[encoded data removed]",
      "text/plain": [
       "<Figure size 1440x360 with 2 Axes>"
      ]
     },
     "metadata": {
      "needs_background": "light",
      "tags": []
     },
     "output_type": "display_data"
    }
   ],
   "source": [
    "plot_history(transfer_model_history, \"ResNet Pretrained Transfered Model\")"
   ]
  },
  {
   "cell_type": "code",
   "execution_count": 18,
   "metadata": {
    "colab": {
     "base_uri": "https://localhost:8080/"
    },
    "id": "1YKDsdpPn0sP",
    "outputId": "2417489e-5998-418b-b742-fd8b0ef22c1f"
   },
   "outputs": [
    {
     "name": "stdout",
     "output_type": "stream",
     "text": [
      "Test time :  1.79s\n",
      "Test Loss :  2.5027\n",
      "Test Accuracy :  0.3611\n"
     ]
    }
   ],
   "source": [
    "model_test(model=best_normal_model, criterion=criterion, test_loader=normal_data_loader['test'])"
   ]
  },
  {
   "cell_type": "code",
   "execution_count": 19,
   "metadata": {
    "colab": {
     "base_uri": "https://localhost:8080/"
    },
    "id": "vJAmlXLTkXhU",
    "outputId": "a26b9a22-48c8-4eca-8d47-231d668d6b28"
   },
   "outputs": [
    {
     "name": "stdout",
     "output_type": "stream",
     "text": [
      "Test time :  15.41s\n",
      "Test Loss :  2.1266\n",
      "Test Accuracy :  0.4734\n"
     ]
    }
   ],
   "source": [
    "model_test(model=best_transfer_model, criterion=criterion, test_loader=transfered_data_loader['test'])"
   ]
  },
  {
   "cell_type": "code",
   "execution_count": 20,
   "metadata": {
    "colab": {
     "base_uri": "https://localhost:8080/"
    },
    "id": "oTjDz1TX5bea",
    "outputId": "63769920-654f-408f-d081-5e1445f609b6"
   },
   "outputs": [
    {
     "name": "stdout",
     "output_type": "stream",
     "text": [
      "New Conv Net :\n",
      "----------------------------------------------------------------\n",
      "        Layer (type)               Output Shape         Param #\n",
      "================================================================\n",
      "            Conv2d-1          [200, 16, 32, 32]             448\n",
      "              ReLU-2          [200, 16, 32, 32]               0\n",
      "       BatchNorm2d-3          [200, 16, 32, 32]              32\n",
      "         MaxPool2d-4          [200, 16, 16, 16]               0\n",
      "            Conv2d-5          [200, 32, 16, 16]           4,640\n",
      "              ReLU-6          [200, 32, 16, 16]               0\n",
      "       BatchNorm2d-7          [200, 32, 16, 16]              64\n",
      "         MaxPool2d-8            [200, 32, 8, 8]               0\n",
      "            Conv2d-9            [200, 64, 8, 8]          18,496\n",
      "             ReLU-10            [200, 64, 8, 8]               0\n",
      "      BatchNorm2d-11            [200, 64, 8, 8]             128\n",
      "        MaxPool2d-12            [200, 64, 4, 4]               0\n",
      "           Conv2d-13           [200, 128, 4, 4]          73,856\n",
      "             ReLU-14           [200, 128, 4, 4]               0\n",
      "      BatchNorm2d-15           [200, 128, 4, 4]             256\n",
      "        MaxPool2d-16           [200, 128, 2, 2]               0\n",
      "           Conv2d-17           [200, 512, 2, 2]         590,336\n",
      "             ReLU-18           [200, 512, 2, 2]               0\n",
      "      BatchNorm2d-19           [200, 512, 2, 2]           1,024\n",
      "        MaxPool2d-20           [200, 512, 1, 1]               0\n",
      "          Flatten-21                 [200, 512]               0\n",
      "           Linear-22                 [200, 256]         131,328\n",
      "             ReLU-23                 [200, 256]               0\n",
      "           Linear-24                 [200, 100]          25,700\n",
      "================================================================\n",
      "Total params: 846,308\n",
      "Trainable params: 846,308\n",
      "Non-trainable params: 0\n",
      "----------------------------------------------------------------\n",
      "Input size (MB): 2.34\n",
      "Forward/backward pass size (MB): 164.22\n",
      "Params size (MB): 3.23\n",
      "Estimated Total Size (MB): 169.79\n",
      "----------------------------------------------------------------\n"
     ]
    }
   ],
   "source": [
    "_net = Net().to(device)\n",
    "_normal_optimizer = optim.SGD(_net.parameters(), lr=normal_learning_rate, momentum=momentum)\n",
    "\n",
    "print(\"New Conv Net :\")\n",
    "summary(model=_net, input_size=normal_input_shape, batch_size=batch_size, device=device)"
   ]
  },
  {
   "cell_type": "code",
   "execution_count": 21,
   "metadata": {
    "colab": {
     "base_uri": "https://localhost:8080/"
    },
    "id": "BAN16XZC1C8S",
    "outputId": "921efb48-07ea-493a-93ec-9a43f70c4d5c"
   },
   "outputs": [
    {
     "name": "stdout",
     "output_type": "stream",
     "text": [
      "Epoch[001/100] :: Train (Loss =  4.3198, Acc =  0.0679), Validation (Loss =  4.0060, Acc =  0.1204), Epoch Time =  8.89s, Total Time =  8.89s\n",
      "Epoch[002/100] :: Train (Loss =  3.7274, Acc =  0.1523), Validation (Loss =  3.5702, Acc =  0.1730), Epoch Time =  8.85s, Total Time =  17.74s\n",
      "Epoch[003/100] :: Train (Loss =  3.3492, Acc =  0.2089), Validation (Loss =  3.3095, Acc =  0.2116), Epoch Time =  8.82s, Total Time =  26.57s\n",
      "Epoch[004/100] :: Train (Loss =  3.0824, Acc =  0.2570), Validation (Loss =  3.1375, Acc =  0.2432), Epoch Time =  8.74s, Total Time =  35.31s\n",
      "Epoch[005/100] :: Train (Loss =  2.8661, Acc =  0.2968), Validation (Loss =  2.9573, Acc =  0.2764), Epoch Time =  8.81s, Total Time =  44.12s\n",
      "Epoch[006/100] :: Train (Loss =  2.6699, Acc =  0.3345), Validation (Loss =  2.8340, Acc =  0.2945), Epoch Time =  8.96s, Total Time =  53.08s\n",
      "Epoch[007/100] :: Train (Loss =  2.4893, Acc =  0.3722), Validation (Loss =  2.7427, Acc =  0.3165), Epoch Time =  8.82s, Total Time =  61.90s\n",
      "Epoch[008/100] :: Train (Loss =  2.3215, Acc =  0.4061), Validation (Loss =  2.6619, Acc =  0.3295), Epoch Time =  8.86s, Total Time =  70.77s\n",
      "Epoch[009/100] :: Train (Loss =  2.1687, Acc =  0.4441), Validation (Loss =  2.6332, Acc =  0.3429), Epoch Time =  8.73s, Total Time =  79.50s\n",
      "Epoch[010/100] :: Train (Loss =  2.0283, Acc =  0.4775), Validation (Loss =  2.6115, Acc =  0.3483), Epoch Time =  8.91s, Total Time =  88.41s\n",
      "Epoch[011/100] :: Train (Loss =  1.8864, Acc =  0.5101), Validation (Loss =  2.5645, Acc =  0.3591), Epoch Time =  8.82s, Total Time =  97.23s\n",
      "Epoch[012/100] :: Train (Loss =  1.7527, Acc =  0.5425), Validation (Loss =  2.5498, Acc =  0.3641), Epoch Time =  8.81s, Total Time =  106.05s\n",
      "Epoch[013/100] :: Train (Loss =  1.6186, Acc =  0.5815), Validation (Loss =  2.5646, Acc =  0.3635), Epoch Time =  8.78s, Total Time =  114.83s\n",
      "Epoch[014/100] :: Train (Loss =  1.4921, Acc =  0.6121), Validation (Loss =  2.5641, Acc =  0.3609), Epoch Time =  8.79s, Total Time =  123.63s\n",
      "Epoch[015/100] :: Train (Loss =  1.3543, Acc =  0.6489), Validation (Loss =  2.5891, Acc =  0.3625), Epoch Time =  8.86s, Total Time =  132.48s\n",
      "Epoch[016/100] :: Train (Loss =  1.2284, Acc =  0.6848), Validation (Loss =  2.6323, Acc =  0.3649), Epoch Time =  8.81s, Total Time =  141.29s\n",
      "Epoch[017/100] :: Train (Loss =  1.1001, Acc =  0.7227), Validation (Loss =  2.6721, Acc =  0.3629), Epoch Time =  8.84s, Total Time =  150.13s\n",
      "No validation accuracy improvement for 5 epochs. Early Stopping!!\n",
      "\n",
      "Total Training Time :  150.13s\n"
     ]
    }
   ],
   "source": [
    "_best_normal_model, _normal_model_history = model_train(\n",
    "    model=_net, criterion=criterion,\n",
    "    optimizer=_normal_optimizer, data_loader=normal_data_loader,\n",
    "    epochs=100, epochs_to_watch=5, accuracy_min_diff = 0.001,\n",
    "    max_val_acc_needed=max(transfer_model_history['validation']['accuracies'])\n",
    ")"
   ]
  },
  {
   "cell_type": "code",
   "execution_count": 22,
   "metadata": {
    "colab": {
     "base_uri": "https://localhost:8080/",
     "height": 370
    },
    "id": "rUrxUueF47HO",
    "outputId": "ef8db7d2-2511-4f6c-b5f6-5765941045ed"
   },
   "outputs": [
    {
     "data": {
      "image/png": "[encoded data removed]",
      "text/plain": [
       "<Figure size 1440x360 with 2 Axes>"
      ]
     },
     "metadata": {
      "needs_background": "light",
      "tags": []
     },
     "output_type": "display_data"
    }
   ],
   "source": [
    "plot_history(_normal_model_history, \"Normal CNN Model Second\")"
   ]
  },
  {
   "cell_type": "code",
   "execution_count": 23,
   "metadata": {
    "colab": {
     "base_uri": "https://localhost:8080/"
    },
    "id": "g2FjT-o55HxA",
    "outputId": "bc779c87-7f07-4e8a-a6cf-ccd3eb5556bd"
   },
   "outputs": [
    {
     "name": "stdout",
     "output_type": "stream",
     "text": [
      "Test time :  1.77s\n",
      "Test Loss :  2.6038\n",
      "Test Accuracy :  0.3712\n"
     ]
    }
   ],
   "source": [
    "model_test(model=_best_normal_model, criterion=criterion, test_loader=normal_data_loader['test'])"
   ]
  },
  {
   "cell_type": "code",
   "execution_count": 24,
   "metadata": {
    "id": "skpzkD4X5_NS"
   },
   "outputs": [],
   "source": [
    "torch.save(best_normal_model, 'normal_cnn.pth')\n",
    "torch.save(best_transfer_model, 'resnet_transfered.pth')\n",
    "torch.save(_best_normal_model, '_normal_cnn.pth')"
   ]
  },
  {
   "cell_type": "code",
   "execution_count": 25,
   "metadata": {
    "colab": {
     "base_uri": "https://localhost:8080/",
     "height": 17
    },
    "id": "Mo3P8OmD6rWB",
    "outputId": "80a71ad7-65d2-4100-90d2-f2c493ea10f2"
   },
   "outputs": [
    {
     "data": {
      "application/javascript": [
       "\n",
       "    async function download(id, filename, size) {\n",
       "      if (!google.colab.kernel.accessAllowed) {\n",
       "        return;\n",
       "      }\n",
       "      const div = document.createElement('div');\n",
       "      const label = document.createElement('label');\n",
       "      label.textContent = `Downloading \"${filename}\": `;\n",
       "      div.appendChild(label);\n",
       "      const progress = document.createElement('progress');\n",
       "      progress.max = size;\n",
       "      div.appendChild(progress);\n",
       "      document.body.appendChild(div);\n",
       "\n",
       "      const buffers = [];\n",
       "      let downloaded = 0;\n",
       "\n",
       "      const channel = await google.colab.kernel.comms.open(id);\n",
       "      // Send a message to notify the kernel that we're ready.\n",
       "      channel.send({})\n",
       "\n",
       "      for await (const message of channel.messages) {\n",
       "        // Send a message to notify the kernel that we're ready.\n",
       "        channel.send({})\n",
       "        if (message.buffers) {\n",
       "          for (const buffer of message.buffers) {\n",
       "            buffers.push(buffer);\n",
       "            downloaded += buffer.byteLength;\n",
       "            progress.value = downloaded;\n",
       "          }\n",
       "        }\n",
       "      }\n",
       "      const blob = new Blob(buffers, {type: 'application/binary'});\n",
       "      const a = document.createElement('a');\n",
       "      a.href = window.URL.createObjectURL(blob);\n",
       "      a.download = filename;\n",
       "      div.appendChild(a);\n",
       "      a.click();\n",
       "      div.remove();\n",
       "    }\n",
       "  "
      ],
      "text/plain": [
       "<IPython.core.display.Javascript object>"
      ]
     },
     "metadata": {
      "tags": []
     },
     "output_type": "display_data"
    },
    {
     "data": {
      "application/javascript": [
       "download(\"download_5e423798-04d2-49ab-bebb-3534f1c0246d\", \"normal_cnn.pth\", 3409422)"
      ],
      "text/plain": [
       "<IPython.core.display.Javascript object>"
      ]
     },
     "metadata": {
      "tags": []
     },
     "output_type": "display_data"
    },
    {
     "data": {
      "application/javascript": [
       "\n",
       "    async function download(id, filename, size) {\n",
       "      if (!google.colab.kernel.accessAllowed) {\n",
       "        return;\n",
       "      }\n",
       "      const div = document.createElement('div');\n",
       "      const label = document.createElement('label');\n",
       "      label.textContent = `Downloading \"${filename}\": `;\n",
       "      div.appendChild(label);\n",
       "      const progress = document.createElement('progress');\n",
       "      progress.max = size;\n",
       "      div.appendChild(progress);\n",
       "      document.body.appendChild(div);\n",
       "\n",
       "      const buffers = [];\n",
       "      let downloaded = 0;\n",
       "\n",
       "      const channel = await google.colab.kernel.comms.open(id);\n",
       "      // Send a message to notify the kernel that we're ready.\n",
       "      channel.send({})\n",
       "\n",
       "      for await (const message of channel.messages) {\n",
       "        // Send a message to notify the kernel that we're ready.\n",
       "        channel.send({})\n",
       "        if (message.buffers) {\n",
       "          for (const buffer of message.buffers) {\n",
       "            buffers.push(buffer);\n",
       "            downloaded += buffer.byteLength;\n",
       "            progress.value = downloaded;\n",
       "          }\n",
       "        }\n",
       "      }\n",
       "      const blob = new Blob(buffers, {type: 'application/binary'});\n",
       "      const a = document.createElement('a');\n",
       "      a.href = window.URL.createObjectURL(blob);\n",
       "      a.download = filename;\n",
       "      div.appendChild(a);\n",
       "      a.click();\n",
       "      div.remove();\n",
       "    }\n",
       "  "
      ],
      "text/plain": [
       "<IPython.core.display.Javascript object>"
      ]
     },
     "metadata": {
      "tags": []
     },
     "output_type": "display_data"
    },
    {
     "data": {
      "application/javascript": [
       "download(\"download_b02eda70-a791-4597-971d-228a191e757e\", \"resnet_transfered.pth\", 48204166)"
      ],
      "text/plain": [
       "<IPython.core.display.Javascript object>"
      ]
     },
     "metadata": {
      "tags": []
     },
     "output_type": "display_data"
    },
    {
     "data": {
      "application/javascript": [
       "\n",
       "    async function download(id, filename, size) {\n",
       "      if (!google.colab.kernel.accessAllowed) {\n",
       "        return;\n",
       "      }\n",
       "      const div = document.createElement('div');\n",
       "      const label = document.createElement('label');\n",
       "      label.textContent = `Downloading \"${filename}\": `;\n",
       "      div.appendChild(label);\n",
       "      const progress = document.createElement('progress');\n",
       "      progress.max = size;\n",
       "      div.appendChild(progress);\n",
       "      document.body.appendChild(div);\n",
       "\n",
       "      const buffers = [];\n",
       "      let downloaded = 0;\n",
       "\n",
       "      const channel = await google.colab.kernel.comms.open(id);\n",
       "      // Send a message to notify the kernel that we're ready.\n",
       "      channel.send({})\n",
       "\n",
       "      for await (const message of channel.messages) {\n",
       "        // Send a message to notify the kernel that we're ready.\n",
       "        channel.send({})\n",
       "        if (message.buffers) {\n",
       "          for (const buffer of message.buffers) {\n",
       "            buffers.push(buffer);\n",
       "            downloaded += buffer.byteLength;\n",
       "            progress.value = downloaded;\n",
       "          }\n",
       "        }\n",
       "      }\n",
       "      const blob = new Blob(buffers, {type: 'application/binary'});\n",
       "      const a = document.createElement('a');\n",
       "      a.href = window.URL.createObjectURL(blob);\n",
       "      a.download = filename;\n",
       "      div.appendChild(a);\n",
       "      a.click();\n",
       "      div.remove();\n",
       "    }\n",
       "  "
      ],
      "text/plain": [
       "<IPython.core.display.Javascript object>"
      ]
     },
     "metadata": {
      "tags": []
     },
     "output_type": "display_data"
    },
    {
     "data": {
      "application/javascript": [
       "download(\"download_e7f951a0-8981-48e9-a4d6-8b1cd6ba6511\", \"_normal_cnn.pth\", 3409422)"
      ],
      "text/plain": [
       "<IPython.core.display.Javascript object>"
      ]
     },
     "metadata": {
      "tags": []
     },
     "output_type": "display_data"
    }
   ],
   "source": [
    "files.download('normal_cnn.pth')\n",
    "files.download('resnet_transfered.pth')\n",
    "files.download('_normal_cnn.pth')"
   ]
  },
  {
   "cell_type": "code",
   "execution_count": 25,
   "metadata": {
    "id": "eCMnVh71B5NH"
   },
   "outputs": [],
   "source": []
  }
 ],
 "metadata": {
  "accelerator": "GPU",
  "colab": {
   "collapsed_sections": [],
   "name": "torch_transfer_learning.ipynb",
   "provenance": []
  },
  "kernelspec": {
   "display_name": "Python 3",
   "language": "python",
   "name": "python3"
  },
  "language_info": {
   "codemirror_mode": {
    "name": "ipython",
    "version": 3
   },
   "file_extension": ".py",
   "mimetype": "text/x-python",
   "name": "python",
   "nbconvert_exporter": "python",
   "pygments_lexer": "ipython3",
   "version": "3.8.5"
  }
 },
 "nbformat": 4,
 "nbformat_minor": 1
}
